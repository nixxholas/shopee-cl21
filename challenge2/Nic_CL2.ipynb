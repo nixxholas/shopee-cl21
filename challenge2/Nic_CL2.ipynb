{
 "cells": [
  {
   "cell_type": "code",
   "execution_count": 5,
   "metadata": {},
   "outputs": [
    {
     "output_type": "stream",
     "name": "stdout",
     "text": [
      "Version:  2.4.1\nEager mode:  True\nHub version:  0.11.0\nGPU is NOT AVAILABLE\n"
     ]
    }
   ],
   "source": [
    "import os\n",
    "import numpy as np\n",
    "import pandas as pd\n",
    "\n",
    "import tensorflow as tf\n",
    "import tensorflow_hub as hub\n",
    "import tensorflow_datasets as tfds\n",
    "\n",
    "print(\"Version: \", tf.__version__)\n",
    "print(\"Eager mode: \", tf.executing_eagerly())\n",
    "print(\"Hub version: \", hub.__version__)\n",
    "print(\"GPU is\", \"available\" if tf.config.list_physical_devices(\"GPU\") else \"NOT AVAILABLE\")"
   ]
  },
  {
   "cell_type": "code",
   "execution_count": 6,
   "metadata": {},
   "outputs": [
    {
     "output_type": "execute_result",
     "data": {
      "text/plain": [
       "            id                                        raw_address  \\\n",
       "0            0  jl kapuk timur delta sili iii lippo cika 11 a ...   \n",
       "1            1                                 aye, jati sampurna   \n",
       "2            2               setu siung 119 rt 5 1 13880 cipayung   \n",
       "3            3                               toko dita, kertosono   \n",
       "4            4                                      jl. orde baru   \n",
       "...        ...                                                ...   \n",
       "299995  299995               jend ahmad yani 331 kertasari ciamis   \n",
       "299996  299996                 raya cila kko, cilandak timur kel.   \n",
       "299997  299997                     tanjung gusta jl. yaya 2 no 17   \n",
       "299998  299998  jalan cipadu jaya taman asri gang bijaksana 3 ...   \n",
       "299999  299999          jaya maspion permata blok beryl b2  no.58   \n",
       "\n",
       "                         POI                                    street  \n",
       "0                             jl kapuk timur delta sili iii lippo cika  \n",
       "1                                                                       \n",
       "2                                                                siung  \n",
       "3                  toko dita                                            \n",
       "4                                                        jl. orde baru  \n",
       "...                      ...                                       ...  \n",
       "299995                                                 jend ahmad yani  \n",
       "299996                                                   raya cila kko  \n",
       "299997                                                                  \n",
       "299998            taman asri                                            \n",
       "299999  jaya maspion permata                                            \n",
       "\n",
       "[300000 rows x 4 columns]"
      ],
      "text/html": "<div>\n<style scoped>\n    .dataframe tbody tr th:only-of-type {\n        vertical-align: middle;\n    }\n\n    .dataframe tbody tr th {\n        vertical-align: top;\n    }\n\n    .dataframe thead th {\n        text-align: right;\n    }\n</style>\n<table border=\"1\" class=\"dataframe\">\n  <thead>\n    <tr style=\"text-align: right;\">\n      <th></th>\n      <th>id</th>\n      <th>raw_address</th>\n      <th>POI</th>\n      <th>street</th>\n    </tr>\n  </thead>\n  <tbody>\n    <tr>\n      <th>0</th>\n      <td>0</td>\n      <td>jl kapuk timur delta sili iii lippo cika 11 a ...</td>\n      <td></td>\n      <td>jl kapuk timur delta sili iii lippo cika</td>\n    </tr>\n    <tr>\n      <th>1</th>\n      <td>1</td>\n      <td>aye, jati sampurna</td>\n      <td></td>\n      <td></td>\n    </tr>\n    <tr>\n      <th>2</th>\n      <td>2</td>\n      <td>setu siung 119 rt 5 1 13880 cipayung</td>\n      <td></td>\n      <td>siung</td>\n    </tr>\n    <tr>\n      <th>3</th>\n      <td>3</td>\n      <td>toko dita, kertosono</td>\n      <td>toko dita</td>\n      <td></td>\n    </tr>\n    <tr>\n      <th>4</th>\n      <td>4</td>\n      <td>jl. orde baru</td>\n      <td></td>\n      <td>jl. orde baru</td>\n    </tr>\n    <tr>\n      <th>...</th>\n      <td>...</td>\n      <td>...</td>\n      <td>...</td>\n      <td>...</td>\n    </tr>\n    <tr>\n      <th>299995</th>\n      <td>299995</td>\n      <td>jend ahmad yani 331 kertasari ciamis</td>\n      <td></td>\n      <td>jend ahmad yani</td>\n    </tr>\n    <tr>\n      <th>299996</th>\n      <td>299996</td>\n      <td>raya cila kko, cilandak timur kel.</td>\n      <td></td>\n      <td>raya cila kko</td>\n    </tr>\n    <tr>\n      <th>299997</th>\n      <td>299997</td>\n      <td>tanjung gusta jl. yaya 2 no 17</td>\n      <td></td>\n      <td></td>\n    </tr>\n    <tr>\n      <th>299998</th>\n      <td>299998</td>\n      <td>jalan cipadu jaya taman asri gang bijaksana 3 ...</td>\n      <td>taman asri</td>\n      <td></td>\n    </tr>\n    <tr>\n      <th>299999</th>\n      <td>299999</td>\n      <td>jaya maspion permata blok beryl b2  no.58</td>\n      <td>jaya maspion permata</td>\n      <td></td>\n    </tr>\n  </tbody>\n</table>\n<p>300000 rows × 4 columns</p>\n</div>"
     },
     "metadata": {},
     "execution_count": 6
    }
   ],
   "source": [
    "df = pd.read_csv('train.csv')\n",
    "poi_treet_df = df[\"POI/street\"].str.split(\"/\", n = 1, expand = True) # Split the POI/Street\n",
    "df[\"POI\"]= poi_street_df[0] # Separate them accordingly.\n",
    "df[\"street\"]= poi_street_df[1] # Separate them accordingly.\n",
    "df_table = df.drop([\"POI/street\"], axis=1) # Drop the original.\n",
    "df_table"
   ]
  },
  {
   "cell_type": "code",
   "execution_count": null,
   "metadata": {},
   "outputs": [],
   "source": [
    "# Next, we should convert the raw_address to an address.\n",
    "\n",
    "# Iterate every dataframe row in order to remove the street from the raw_address.\n",
    "# Address = raw_address - POI - street"
   ]
  }
 ],
 "metadata": {
  "kernelspec": {
   "display_name": "Python 3",
   "language": "python",
   "name": "python3"
  },
  "language_info": {
   "codemirror_mode": {
    "name": "ipython",
    "version": 2
   },
   "file_extension": ".py",
   "mimetype": "text/x-python",
   "name": "python",
   "nbconvert_exporter": "python",
   "pygments_lexer": "ipython2",
   "version": "3.8.7-final"
  },
  "pycharm": {
   "stem_cell": {
    "cell_type": "raw",
    "source": [
     "import matplotlib.pyplot as plt\n",
     "import os\n",
     "import re\n",
     "import shutil\n",
     "import string\n",
     "import tensorflow as tf\n",
     "\n",
     "from tensorflow.keras import layers\n",
     "from tensorflow.keras import losses\n",
     "from tensorflow.keras import preprocessing\n",
     "from tensorflow.keras.layers.experimental.preprocessing import TextVectorization\n"
    ],
    "metadata": {
     "collapsed": false
    }
   }
  }
 },
 "nbformat": 4,
 "nbformat_minor": 0
}