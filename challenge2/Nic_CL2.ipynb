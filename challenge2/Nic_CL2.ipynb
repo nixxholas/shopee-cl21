{
 "cells": [],
 "metadata": {
  "kernelspec": {
   "display_name": "Python 3",
   "language": "python",
   "name": "python3"
  },
  "language_info": {
   "codemirror_mode": {
    "name": "ipython",
    "version": 2
   },
   "file_extension": ".py",
   "mimetype": "text/x-python",
   "name": "python",
   "nbconvert_exporter": "python",
   "pygments_lexer": "ipython2",
   "version": "2.7.6"
  },
  "pycharm": {
   "stem_cell": {
    "cell_type": "raw",
    "source": [
     "import matplotlib.pyplot as plt\n",
     "import os\n",
     "import re\n",
     "import shutil\n",
     "import string\n",
     "import tensorflow as tf\n",
     "\n",
     "from tensorflow.keras import layers\n",
     "from tensorflow.keras import losses\n",
     "from tensorflow.keras import preprocessing\n",
     "from tensorflow.keras.layers.experimental.preprocessing import TextVectorization\n"
    ],
    "metadata": {
     "collapsed": false
    }
   }
  }
 },
 "nbformat": 4,
 "nbformat_minor": 0
}